{
 "cells": [
  {
   "cell_type": "code",
   "execution_count": null,
   "id": "369604fd-8630-4ea9-b6c4-660da79afcab",
   "metadata": {},
   "outputs": [],
   "source": [
    "import cv2\n",
    "import face_recognition\n",
    "import matplotlib.pyplot as plt\n",
    "\n",
    "image = face_recognition.load_image_file(r\"C:\\Users\\himan\\OneDrive\\Pictures\\IMG20240331154614.jpg\")\n",
    "faces = face_recognition.face_encodings(face_image = image,\n",
    "\t\t\t\t\t\t\t\t\t\t\tnum_jitters=50,\n",
    "\t\t\t\t\t\t\t\t\t\t\tmodel='large')[0]\n",
    "cam = cv2.VideoCapture(0)\n",
    "if not cam.isOpened():\n",
    "\tprint(\"Camera not working\")\n",
    "\texit()\n",
    "while True:\n",
    "\tret, frame = cam.read()\n",
    "\tif not ret:\n",
    "\t\tprint(\"Can't receive the frame\")\n",
    "\t\tbreak\n",
    "\tface_locations = face_recognition.face_locations(frame)\n",
    "\tfor face_location in face_locations:\n",
    "\t\ttop, right, bottom, left = face_location\n",
    "\t\tframe = cv2.rectangle(frame, (right,top), (left,bottom), color = (0,0, 255), thickness=2)\n",
    "\ttry:\n",
    "\t\tLive_face_encoding = face_recognition.face_encodings(face_image = frame,\n",
    "\t\t\t\t\t\t\t\t\t\t\t\t\t\t\tnum_jitters=23,\n",
    "\t\t\t\t\t\t\t\t\t\t\t\t\t\t\tmodel='large')[0]\n",
    "\t\tresults = face_recognition.compare_faces([known_faces], Live_face_encoding)\n",
    "\t\tif results:\n",
    "\t\t\timg = cv2.cvtColor(frame, cv2.COLOR_BGR2RGB)\n",
    "\t\t\timg = cv2.putText(img, 'IMG20240331154614', (30, 55), cv2.FONT_HERSHEY_SIMPLEX, 1,\n",
    "\t\t\t\t\t(255,0,0), 2, cv2.LINE_AA)\n",
    "\t\t\tprint('Hii there i am himansu....')\n",
    "\t\t\tplt.imshow(img)\n",
    "\t\t\tplt.show()\n",
    "\t\t\tbreak\n",
    "\texcept:\n",
    "\t\timg = cv2.putText(frame, 'I am not himansu', (30, 55), cv2.FONT_HERSHEY_SIMPLEX, 1,\n",
    "\t\t\t\t(255,0,0), 2, cv2.LINE_AA)\n",
    "\t\tcv2.imshow('frame', img)\n",
    "\t\tif cv2.waitKey(1) == ord('q'):\n",
    "\t\t\tbreak\n",
    "cam.release()\n",
    "cv2.destroyAllWindows()\n"
   ]
  },
  {
   "cell_type": "code",
   "execution_count": null,
   "id": "e758648b-5630-42ec-af7c-3013fac878c5",
   "metadata": {},
   "outputs": [],
   "source": []
  }
 ],
 "metadata": {
  "kernelspec": {
   "display_name": "Python 3 (ipykernel)",
   "language": "python",
   "name": "python3"
  },
  "language_info": {
   "codemirror_mode": {
    "name": "ipython",
    "version": 3
   },
   "file_extension": ".py",
   "mimetype": "text/x-python",
   "name": "python",
   "nbconvert_exporter": "python",
   "pygments_lexer": "ipython3",
   "version": "3.12.4"
  }
 },
 "nbformat": 4,
 "nbformat_minor": 5
}
